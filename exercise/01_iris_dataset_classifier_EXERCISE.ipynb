{
 "cells": [
  {
   "cell_type": "markdown",
   "id": "8376e3db",
   "metadata": {},
   "source": [
    "<img src=\"../img/iris.jpg\"  width=\"450\" height=\"200\">\n",
    "\n",
    "### Understanding Mutliclass Classificaion ML Models with SHAP\n",
    "\n",
    "The iris dataset is famous in the data science community; you can learn more [here](https://archive.ics.uci.edu/ml/datasets/iris). What we need to know is that the dataset is made up of 150 rows/ instances. Each row has four attribue features relating to different dimensions (width and length of sepal and petals) and there are three species (classes) to consider: Setosa, Versicolour, Virginica. These are the targets and there are 50 observations for each species - therefore we can say the data is balanced.\n",
    "\n",
    "In this exercise you will need go through the code and fill in any missing spaces (denoted with `XXXX`). There will be clues and hints.\n",
    "\n",
    "By the end of this exercise you should understand how to use the SHAP library to understand a RandomForestClassifier model."
   ]
  },
  {
   "cell_type": "markdown",
   "id": "1d8cb06d",
   "metadata": {},
   "source": [
    "#### Library Imports\n",
    "\n",
    "There are THREE missing values in the section below"
   ]
  },
  {
   "cell_type": "code",
   "execution_count": null,
   "id": "b17c9157",
   "metadata": {},
   "outputs": [],
   "source": [
    "from sklearn import datasets\n",
    "import XXXX as pd \n",
    "import XXXX as np \n",
    "import matplotlib.pyplot as plt\n",
    "\n",
    "from sklearn.model_selection import train_test_split\n",
    "from sklearn.ensemble import RandomForestClassifier\n",
    "from sklearn import metrics\n",
    "\n",
    "import shap\n",
    "from shap import Explanation\n",
    "\n",
    "# Java Script for SHAP Plots\n",
    "XXXX.initjs() "
   ]
  },
  {
   "cell_type": "code",
   "execution_count": null,
   "id": "bcfb248e",
   "metadata": {},
   "outputs": [],
   "source": [
    "# Helper function to see methods in object\n",
    "# Might be useful when working through this exercise\n",
    "\n",
    "def object_methods(obj):\n",
    "    '''\n",
    "    Helper function to list methods associated with an object\n",
    "    '''\n",
    "    try:\n",
    "        methods = [method_name for method_name in dir(obj)\n",
    "                   if callable(getattr(obj, method_name))]\n",
    "        print('Below are the methods for object: ', obj)\n",
    "        for method in methods:\n",
    "            print(method)\n",
    "    except:\n",
    "        print(\"Error\")"
   ]
  },
  {
   "cell_type": "markdown",
   "id": "7d06c309",
   "metadata": {},
   "source": [
    "#### Load & Clean Data\n",
    "\n",
    "There is ONE missing value in the section below.\n",
    "HINT: The assign the dataframe to the same variable (name) as the data was initially imported to."
   ]
  },
  {
   "cell_type": "code",
   "execution_count": null,
   "id": "906ec018",
   "metadata": {},
   "outputs": [],
   "source": [
    "# Loading and cleaning the data\n",
    "iris = datasets.load_iris()\n",
    "\n",
    "# made into dataframe\n",
    "XXXX = pd.DataFrame( \n",
    "    data= np.c_[iris['data'], iris['target']],\n",
    "    columns= iris['feature_names'] + ['target']\n",
    "    )\n",
    "\n",
    "# Convert target float to int\n",
    "iris['target'] = iris['target'].apply(lambda x: int(x))"
   ]
  },
  {
   "cell_type": "code",
   "execution_count": null,
   "id": "4e83eae2",
   "metadata": {},
   "outputs": [],
   "source": [
    "# Define the different classes/ species\n",
    "class_dict = {0 : 'setosa',\n",
    "             1 : 'versicolor',\n",
    "             2 : 'virginica'}\n",
    "\n",
    "class_dict"
   ]
  },
  {
   "cell_type": "code",
   "execution_count": null,
   "id": "5425890c",
   "metadata": {},
   "outputs": [],
   "source": [
    "# Add species into the dataframe\n",
    "iris['species'] = iris['target'].apply(lambda x: class_dict.get(x))\n",
    "\n",
    "iris.head()"
   ]
  },
  {
   "cell_type": "code",
   "execution_count": null,
   "id": "e35a4cd5",
   "metadata": {},
   "outputs": [],
   "source": [
    "# Take a look at some stats about the data\n",
    "iris.describe()"
   ]
  },
  {
   "cell_type": "markdown",
   "id": "83ee4e50",
   "metadata": {},
   "source": [
    "#### Plot the Data"
   ]
  },
  {
   "cell_type": "code",
   "execution_count": null,
   "id": "e5299b1a",
   "metadata": {},
   "outputs": [],
   "source": [
    "setosa = iris[iris.species == \"setosa\"]\n",
    "versicolor = iris[iris.species=='versicolor']\n",
    "virginica = iris[iris.species=='virginica']\n",
    "\n",
    "fig, ax = plt.subplots()\n",
    "fig.set_size_inches(13, 7) # adjusting the length and width of plot\n",
    "\n",
    "# lables and scatter points\n",
    "ax.scatter(setosa['petal length (cm)'], setosa['petal width (cm)'], label=\"Setosa\", facecolor=\"blue\")\n",
    "ax.scatter(versicolor['petal length (cm)'], versicolor['petal width (cm)'], label=\"Versicolor\", facecolor=\"green\")\n",
    "ax.scatter(virginica['petal length (cm)'], virginica['petal width (cm)'], label=\"Virginica\", facecolor=\"red\")\n",
    "\n",
    "\n",
    "ax.set_xlabel(\"petal length (cm)\")\n",
    "ax.set_ylabel(\"petal width (cm)\")\n",
    "ax.grid()\n",
    "ax.set_title(\"Iris petals\")\n",
    "ax.legend()"
   ]
  },
  {
   "cell_type": "markdown",
   "id": "a5358c29",
   "metadata": {},
   "source": [
    "#### Performing Classification\n",
    "\n",
    "There is ONE missing value in the section below"
   ]
  },
  {
   "cell_type": "code",
   "execution_count": null,
   "id": "58ea2e8f",
   "metadata": {},
   "outputs": [],
   "source": [
    "# Droping the target and species since we only need the measurements\n",
    "X = iris.drop(['target','species'], axis=1)\n",
    "\n",
    "# Define features (X) and target (y)\n",
    "X = X\n",
    "y = iris['target']\n",
    "\n",
    "# get class and features names\n",
    "class_names = iris.species.unique()\n",
    "feature_names = X.columns\n",
    "\n",
    "# Splitting into train and test\n",
    "X_train, X_test, y_train, y_test = train_test_split(XXXX, ####\n",
    "                                                    y,\n",
    "                                                    test_size=0.2,\n",
    "                                                    random_state=42)"
   ]
  },
  {
   "cell_type": "markdown",
   "id": "ade60067",
   "metadata": {},
   "source": [
    "There is ONE missing value in the section below"
   ]
  },
  {
   "cell_type": "code",
   "execution_count": null,
   "id": "296a9cd8",
   "metadata": {},
   "outputs": [],
   "source": [
    "# Instantiate a RFC model and fit it\n",
    "model = RandomForestClassifier(n_estimators=100,\n",
    "                               n_jobs=-1,\n",
    "                               class_weight='balanced',\n",
    "                               random_state=42)\n",
    "\n",
    "model.fit(XXXX, ####\n",
    "          y_train)"
   ]
  },
  {
   "cell_type": "markdown",
   "id": "2c12ba41",
   "metadata": {},
   "source": [
    "#### Inspecting Model's 'Feature Importance' ('Out of the box')"
   ]
  },
  {
   "cell_type": "code",
   "execution_count": null,
   "id": "f1b51938",
   "metadata": {},
   "outputs": [],
   "source": [
    "# Looking at standard feature importance\n",
    "importances = model.feature_importances_\n",
    "indices = np.argsort(importances)"
   ]
  },
  {
   "cell_type": "code",
   "execution_count": null,
   "id": "f5dbf0ef",
   "metadata": {},
   "outputs": [],
   "source": [
    "# Generate Feature Bar Chart of Standard Feature Importances\n",
    "plt.title('Feature Importances')\n",
    "plt.barh(range(len(indices)), importances[indices], color='g', align='center')\n",
    "plt.yticks(range(len(indices)), [feature_names[i] for i in indices])\n",
    "plt.xlabel('Relative Importance')\n",
    "plt.show()"
   ]
  },
  {
   "cell_type": "markdown",
   "id": "1991f93e",
   "metadata": {},
   "source": [
    "#### Predictions\n",
    "\n",
    "There is ONE missing value in the section below"
   ]
  },
  {
   "cell_type": "code",
   "execution_count": null,
   "id": "a96ae0fa",
   "metadata": {},
   "outputs": [],
   "source": [
    "# Training predictions\n",
    "training_prediction = model.XXXX(X_train) ####\n",
    "training_prediction"
   ]
  },
  {
   "cell_type": "markdown",
   "id": "060c0a27",
   "metadata": {},
   "source": [
    "There is ONE missing value in the section below"
   ]
  },
  {
   "cell_type": "code",
   "execution_count": null,
   "id": "f38e718e",
   "metadata": {},
   "outputs": [],
   "source": [
    "# Test predictions\n",
    "test_prediction = model.XXXX(X_test) ####\n",
    "test_prediction"
   ]
  },
  {
   "cell_type": "markdown",
   "id": "fe9512a5",
   "metadata": {},
   "source": [
    "#### Assessing Performance"
   ]
  },
  {
   "cell_type": "code",
   "execution_count": null,
   "id": "707333be",
   "metadata": {},
   "outputs": [],
   "source": [
    "# Performance with training data\n",
    "print(\"Precision, Recall, Confusion matrix, in training\\n\")\n",
    "\n",
    "# Precision Recall scores\n",
    "print(metrics.classification_report(y_train,\n",
    "                                    training_prediction,\n",
    "                                    digits=3))\n",
    "\n",
    "# Confusion matrix\n",
    "print(metrics.confusion_matrix(y_train,\n",
    "                               training_prediction))"
   ]
  },
  {
   "cell_type": "code",
   "execution_count": null,
   "id": "049b686b",
   "metadata": {},
   "outputs": [],
   "source": [
    "# Performance with testing data\n",
    "print(\"Precision, Recall, Confusion matrix, in testing\\n\")\n",
    "\n",
    "# Precision Recall scores\n",
    "print(metrics.classification_report(y_test,\n",
    "                                    test_prediction,\n",
    "                                    digits=3))\n",
    "\n",
    "# Confusion matrix\n",
    "print(metrics.confusion_matrix(y_test,\n",
    "                               test_prediction))"
   ]
  },
  {
   "cell_type": "markdown",
   "id": "805cf7eb",
   "metadata": {},
   "source": [
    "#### Obtaining Shap Values\n",
    "\n",
    "There is ONE missing value in the section below.\n",
    "\n",
    "HINT Why not use the `object_methods` function to see if you can identify which method will return Shapley Values"
   ]
  },
  {
   "cell_type": "code",
   "execution_count": null,
   "id": "c12dd5f9",
   "metadata": {},
   "outputs": [],
   "source": [
    "# Compute SHAP values\n",
    "explainer = shap.Explainer(model)\n",
    "shap_values = explainer.XXXX(X_test) ####\n",
    "\n",
    "shap.summary_plot(shap_values,\n",
    "                  X_test.values,\n",
    "                  plot_type=\"bar\",\n",
    "                  class_names= class_names,\n",
    "                  feature_names = feature_names)"
   ]
  },
  {
   "cell_type": "markdown",
   "id": "ac66387d",
   "metadata": {},
   "source": [
    "#### Summary Plots for each Class\n",
    "\n",
    "There is ONE missing value in the code below\n",
    "\n",
    "HINT You had to look up the method to create this variable above"
   ]
  },
  {
   "cell_type": "code",
   "execution_count": null,
   "id": "08d9baa6",
   "metadata": {},
   "outputs": [],
   "source": [
    "# Summary Plot for Each Class\n",
    "\n",
    "for class_id in iris.target.unique():\n",
    "    class_name = class_dict.get(class_id).capitalize()\n",
    "    print(f\"---------\\n\\nSummary Plot for Class {class_name}\")\n",
    "    shap.summary_plot(XXXX[class_id], ####\n",
    "                      X_test.values,\n",
    "                      feature_names = feature_names)"
   ]
  },
  {
   "cell_type": "markdown",
   "id": "62d28cfe",
   "metadata": {},
   "source": [
    "#### Dependence Plots for each Class (Species)\n",
    "\n",
    "There is ONE missing value in the code below."
   ]
  },
  {
   "cell_type": "code",
   "execution_count": null,
   "id": "52af93d5",
   "metadata": {
    "scrolled": false
   },
   "outputs": [],
   "source": [
    "# dependence plots\n",
    "\n",
    "for class_id in iris.target.unique():\n",
    "    for idx, col_name in enumerate(feature_names):\n",
    "            class_name = class_dict.get(class_id).capitalize()\n",
    "            print(f\"--------\\n\\nDependence Plot for {class_name} - {col_name}\")\n",
    "            shap.dependence_plot(XXXX, # Index of Column ####\n",
    "                                 shap_values[class_id], # Shap values for class of interest\n",
    "                                 X_test.values, # Array of data\n",
    "                                 feature_names=feature_names) # Feature Names"
   ]
  },
  {
   "cell_type": "markdown",
   "id": "0165a8c6",
   "metadata": {},
   "source": [
    "#### Force & Water  Plots\n",
    "\n",
    "You can change the `row` and `class_id` values below to see the different outputs"
   ]
  },
  {
   "cell_type": "code",
   "execution_count": null,
   "id": "e9511d74",
   "metadata": {},
   "outputs": [],
   "source": [
    "# Force Plot\n",
    "row = 2\n",
    "class_id = 0\n",
    "\n",
    "class_name = class_dict.get(class_id).capitalize()\n",
    "\n",
    "print(f\"Below is the Force Plot for {class_name} - Record {row}\")\n",
    "print(\"i.e. This represents how the probabilty of this class being chosen was made\")\n",
    "shap.force_plot(explainer.expected_value[class_id], # return the base or expected values from the `explainer` object\n",
    "                shap_values[class_id][row], # return the shap values for the respective class and row number\n",
    "                X_test.iloc[row].values, # values under the bar\n",
    "                feature_names = feature_names)\n"
   ]
  },
  {
   "cell_type": "markdown",
   "id": "2ffeb4f8",
   "metadata": {},
   "source": [
    "There is ONE missing value in the code below\n",
    "\n",
    "HINT the `data` arguement will come from a single row of data from the testing data."
   ]
  },
  {
   "cell_type": "code",
   "execution_count": null,
   "id": "fb51ff0e",
   "metadata": {},
   "outputs": [],
   "source": [
    "# Waterfall Plot\n",
    "print(f\"Below is the Waterfall Plot for {class_name} - Record {row}\")\n",
    "print(\"i.e. This represents how the probabilty of this class being chosen was made\")\n",
    "shap.waterfall_plot(shap.Explanation(values = shap_values[class_id][row], # return the shap values for the respective class and row number\n",
    "                                     base_values = explainer.expected_value[class_id], # return the base or expected values from the `explainer` object\n",
    "                                     data = XXXX, # feature values (light grey on left hand side) ####\n",
    "                                     feature_names = feature_names))"
   ]
  },
  {
   "cell_type": "code",
   "execution_count": null,
   "id": "deaacbfa",
   "metadata": {},
   "outputs": [],
   "source": []
  }
 ],
 "metadata": {
  "kernelspec": {
   "display_name": "Python 3 (ipykernel)",
   "language": "python",
   "name": "python3"
  },
  "language_info": {
   "codemirror_mode": {
    "name": "ipython",
    "version": 3
   },
   "file_extension": ".py",
   "mimetype": "text/x-python",
   "name": "python",
   "nbconvert_exporter": "python",
   "pygments_lexer": "ipython3",
   "version": "3.8.16"
  }
 },
 "nbformat": 4,
 "nbformat_minor": 5
}
