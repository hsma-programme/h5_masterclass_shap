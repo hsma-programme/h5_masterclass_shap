{
 "cells": [
  {
   "cell_type": "markdown",
   "id": "4c4b120d",
   "metadata": {},
   "source": [
    "## <a name=\"top\"></a>Understanding Vehicle Fuel Economy (MPG) Predictions\n",
    "\n",
    "In this Notebook we will try to understand how a trained [XGBoost](https://xgboost.readthedocs.io/en/stable/) model makes it's predictions about vehicle fuel efficiency a.k.a. miles per gallon (MPG).\n",
    "\n",
    "Jump to the relevant section\n",
    "- [Library Imports](#imports)\n",
    "- [Data Import](#data)\n",
    "- [Building Model](#building_model)\n",
    "- [shap.KernelExplainer](#shap_ke)\n",
    "- [shap.Explainer](#shap_exp)\n",
    "- [Summary Plot - Feature Importance](#summ_fi)\n",
    "- [Dependence Plot](#dep_plot)\n",
    "- [Visualising a Single Prediction - Waterfall Plot](#waterfall)\n",
    "- [Force Plot](#force)"
   ]
  },
  {
   "cell_type": "markdown",
   "id": "8b8ae357",
   "metadata": {},
   "source": [
    "### <a name=\"imports\"></a>Library Imports"
   ]
  },
  {
   "cell_type": "code",
   "execution_count": null,
   "id": "a2bb71a7",
   "metadata": {},
   "outputs": [],
   "source": [
    "import pandas as pd\n",
    "import numpy as np\n",
    "from numpy import absolute\n",
    "from sklearn.model_selection import train_test_split\n",
    "from sklearn.model_selection import cross_val_score\n",
    "from sklearn.model_selection import RepeatedKFold\n",
    "import xgboost as xgb\n",
    "import matplotlib.pyplot as plt\n",
    "\n",
    "import warnings\n",
    "warnings.filterwarnings(\"ignore\")\n",
    "\n",
    "import sklearn\n",
    "print(\"Scikit-Learn Version : {}\".format(sklearn.__version__))\n",
    "\n",
    "import shap\n",
    "from shap import Explanation\n",
    "print(\"SHAP Version : {}\".format(shap.__version__))\n",
    "\n",
    "# JavaScript Important for the interactive charts later on\n",
    "shap.initjs()"
   ]
  },
  {
   "cell_type": "markdown",
   "id": "210b3548",
   "metadata": {},
   "source": [
    "### <a name=\"data\"></a>Data Import"
   ]
  },
  {
   "cell_type": "code",
   "execution_count": null,
   "id": "6a4b02ef",
   "metadata": {},
   "outputs": [],
   "source": [
    "data = pd.read_csv('../data/auto-mpg.csv')\n",
    "data = data.loc[(data['horsepower']!='?')]\n",
    "data['horsepower'] = data['horsepower'].astype('int')\n",
    "data.info()"
   ]
  },
  {
   "cell_type": "code",
   "execution_count": null,
   "id": "6ba7b052",
   "metadata": {},
   "outputs": [],
   "source": [
    "X = data.drop(['mpg', 'car name'], axis=1)\n",
    "y = data['mpg']"
   ]
  },
  {
   "cell_type": "code",
   "execution_count": null,
   "id": "bf341116",
   "metadata": {},
   "outputs": [],
   "source": [
    "print(X.shape)\n",
    "print(y.shape)"
   ]
  },
  {
   "cell_type": "markdown",
   "id": "dc9cff54",
   "metadata": {},
   "source": [
    "### <a name=\"building_model\"></a>Building Model"
   ]
  },
  {
   "cell_type": "code",
   "execution_count": null,
   "id": "94baccf6",
   "metadata": {},
   "outputs": [],
   "source": [
    "X_train, X_test, y_train, y_test = train_test_split(X,\n",
    "                                                   y,\n",
    "                                                   test_size=0.2,\n",
    "                                                   random_state=42)"
   ]
  },
  {
   "cell_type": "code",
   "execution_count": null,
   "id": "e3376a4d",
   "metadata": {},
   "outputs": [],
   "source": [
    "model = xgb.XGBRegressor()"
   ]
  },
  {
   "cell_type": "code",
   "execution_count": null,
   "id": "80bf4b5a",
   "metadata": {},
   "outputs": [],
   "source": [
    "# create an xgboost regression model\n",
    "model = xgb.XGBRegressor(n_estimators=100)\n",
    "\n",
    "# fit the model\n",
    "model.fit(X_train, y_train)"
   ]
  },
  {
   "cell_type": "code",
   "execution_count": null,
   "id": "930c7984",
   "metadata": {},
   "outputs": [],
   "source": [
    "# define model evaluation method\n",
    "cv = RepeatedKFold(n_splits=10, n_repeats=3, random_state=1)\n",
    "# evaluate model\n",
    "scores = cross_val_score(model, X, y, scoring='neg_mean_absolute_error', cv=cv, n_jobs=-1)\n",
    "# force scores to be positive\n",
    "scores = absolute(scores)\n",
    "print('Mean MAE: %.3f (%.3f)' % (scores.mean(), scores.std()) )"
   ]
  },
  {
   "cell_type": "code",
   "execution_count": null,
   "id": "56dcd362",
   "metadata": {},
   "outputs": [],
   "source": [
    "# Check Actual Vs Predictions\n",
    "fig = plt.figure(figsize=(6,6))\n",
    "ax = fig.add_subplot(111)\n",
    "\n",
    "# Plot points\n",
    "x_points = y_test\n",
    "y_points = model.predict(X_test)\n",
    "\n",
    "ax.scatter(x_points, y_points)\n",
    "ax.set_title('Actual Vs Predicted MPG Values')\n",
    "ax.set_ylabel('Predicted MPG')\n",
    "ax.set_xlabel('Actual MPG')\n",
    "\n",
    "ax.plot([0, 40],\n",
    "       [0, 40],\n",
    "       color='r',\n",
    "       linestyle='-',\n",
    "       linewidth=2)\n",
    "\n",
    "plt.grid()\n",
    "plt.show()"
   ]
  },
  {
   "cell_type": "markdown",
   "id": "40b60443",
   "metadata": {},
   "source": [
    "### <a name=\"shap_ke\"></a>shap.KernelExplainer\n",
    "\n",
    "The below is taken from the documentation, available [here](https://shap-lrjball.readthedocs.io/en/latest/generated/shap.KernelExplainer.html)\n",
    "\n",
    "*\"Uses Shapley values to explain any machine learning model or python function.*\n",
    "\n",
    "*This is the primary explainer interface for the SHAP library. It takes any combination of a model and masker and returns a callable subclass object that implements the particular estimation algorithm that was chosen.\"*\n",
    "\n",
    "\n",
    "For the shap.Explainer the first parameter must meet the following requirement and therefore must be `model.predict` \"User supplied function that takes a matrix of samples (# samples x # features) and computes a the output of the model for those samples. The output can be a vector (# samples) or a matrix (# samples x # model outputs).\"\n",
    "\n",
    "See the methods available for [`shap.KernelExplainer`](https://shap-lrjball.readthedocs.io/en/latest/generated/shap.KernelExplainer.html) for example `.shap_values(...)`"
   ]
  },
  {
   "cell_type": "code",
   "execution_count": null,
   "id": "db7b2511",
   "metadata": {},
   "outputs": [],
   "source": [
    "# Instantiate KernelExplainer object....\n",
    "kernal_shap_values = shap.KernelExplainer(model.predict,\n",
    "                                          data=X_test).shap_values(X_test)"
   ]
  },
  {
   "cell_type": "code",
   "execution_count": null,
   "id": "54ffc0f6",
   "metadata": {},
   "outputs": [],
   "source": [
    "# You can then use `shap.summary_plot`\n",
    "# however if you don't specify the `features` arguement\n",
    "# then you will get the below...\n",
    "shap.summary_plot(kernal_shap_values)"
   ]
  },
  {
   "cell_type": "code",
   "execution_count": null,
   "id": "57c342e4",
   "metadata": {},
   "outputs": [],
   "source": [
    "# Once added in, you get the feature names (left) and values (right)\n",
    "shap.summary_plot(kernal_shap_values, X_test)"
   ]
  },
  {
   "cell_type": "markdown",
   "id": "7b5c251e",
   "metadata": {},
   "source": [
    "### <a name=\"shap_exp\"></a>shap.Explainer\n",
    "\n",
    "The below is taken from the documentation, available [here](https://shap-lrjball.readthedocs.io/en/latest/generated/shap.Explainer.html)\n",
    "\n",
    "*\"Uses Shapley values to explain any machine learning model or python function.*\n",
    "\n",
    "*This is the primary explainer interface for the SHAP library. It takes any combination of a model and masker and returns a callable subclass object that implements the particular estimation algorithm that was chosen.\"*"
   ]
  },
  {
   "cell_type": "code",
   "execution_count": null,
   "id": "715aada9",
   "metadata": {},
   "outputs": [],
   "source": [
    "# Obtain shap values\n",
    "shap_values = shap.Explainer(model).shap_values(X_test)\n",
    "shap_values"
   ]
  },
  {
   "cell_type": "code",
   "execution_count": null,
   "id": "d5046c9a",
   "metadata": {
    "scrolled": true
   },
   "outputs": [],
   "source": [
    "# Obtain shap interaction values\n",
    "shap_interaction_values = shap.Explainer(model).shap_interaction_values(X_test)\n",
    "shap_interaction_values"
   ]
  },
  {
   "cell_type": "markdown",
   "id": "c9e5680f",
   "metadata": {},
   "source": [
    "### <a name=\"summ_fi\"></a>[Summary Plot - Feature Importance](https://shap-lrjball.readthedocs.io/en/latest/generated/shap.summary_plot.html?highlight=summary%20plot)"
   ]
  },
  {
   "cell_type": "code",
   "execution_count": null,
   "id": "255a461b",
   "metadata": {},
   "outputs": [],
   "source": [
    "shap.summary_plot(shap_values,\n",
    "                  X_test,\n",
    "                  plot_type=\"bar\")"
   ]
  },
  {
   "cell_type": "code",
   "execution_count": null,
   "id": "2644f35c",
   "metadata": {},
   "outputs": [],
   "source": [
    "# Summary - Beeswarm plot\n",
    "shap.summary_plot(shap_values,\n",
    "                  X_test)"
   ]
  },
  {
   "cell_type": "code",
   "execution_count": null,
   "id": "00b68ecd",
   "metadata": {},
   "outputs": [],
   "source": [
    "# Summary - Violin plot\n",
    "shap.summary_plot(shap_values,\n",
    "                  X_test,\n",
    "                  plot_type=\"violin\")"
   ]
  },
  {
   "cell_type": "markdown",
   "id": "706c1d73",
   "metadata": {},
   "source": [
    "### <a name=\"dep_plot\"></a>[Dependence Plot](https://shap-lrjball.readthedocs.io/en/latest/generated/shap.dependence_plot.html)\n",
    "\n",
    "*\"Create a SHAP dependence plot, colored by an interaction feature.*\n",
    "\n",
    "*Plots the value of the feature on the x-axis and the SHAP value of the same feature on the y-axis. This shows how the model depends on the given feature, and is like a richer extenstion of the classical parital dependence plots. Vertical dispersion of the data points represents interaction effects. Grey ticks along the y-axis are data points where the feature’s value was NaN.\"*"
   ]
  },
  {
   "cell_type": "code",
   "execution_count": null,
   "id": "52007518",
   "metadata": {},
   "outputs": [],
   "source": [
    "# Lets see the features and respective index numbers\n",
    "for e, i in enumerate(X_test.columns):\n",
    "    print(f\"{e} - {i}\")"
   ]
  },
  {
   "cell_type": "code",
   "execution_count": null,
   "id": "2cf4c70d",
   "metadata": {
    "scrolled": false
   },
   "outputs": [],
   "source": [
    "# Now to create a dependence plot for each...\n",
    "# Remember - Y-axis - is SHAP value for respective feature value\n",
    "# X-axis - is the freature's value\n",
    "for e, i in enumerate(X_test.columns):\n",
    "    shap.dependence_plot(e, shap_values, X_test)"
   ]
  },
  {
   "cell_type": "markdown",
   "id": "8423cd4d",
   "metadata": {},
   "source": [
    "### <a name=\"waterfall\"></a>Visualising a Single Prediction - [Waterfall Plot](https://shap-lrjball.readthedocs.io/en/latest/generated/shap.waterfall_plot.html)\n",
    "\n",
    "You can use the `waterfall_plot` method to inpect a single prediction.\n",
    "To use this you need to use the shap.Explanation"
   ]
  },
  {
   "cell_type": "code",
   "execution_count": null,
   "id": "ca6efe50",
   "metadata": {},
   "outputs": [],
   "source": [
    "# compute SHAP values\n",
    "# when variable `shap_values` was created above it used slightly different params...\n",
    "# shap_values = shap.Explainer(model).shap_values(X_test)\n",
    "explainer2 = shap.Explainer(model, X_train)\n",
    "shap_values2 = explainer2(X)"
   ]
  },
  {
   "cell_type": "code",
   "execution_count": null,
   "id": "e2d4c345",
   "metadata": {},
   "outputs": [],
   "source": [
    "print(type(shap_values2))\n",
    "\n",
    "# note the different attributes i.e. values, base_values, etc\n",
    "shap_values2"
   ]
  },
  {
   "cell_type": "code",
   "execution_count": null,
   "id": "42e097d0",
   "metadata": {},
   "outputs": [],
   "source": [
    "# idx of value to check\n",
    "idx = 0\n",
    "shap.plots.waterfall(shap_values2[idx])"
   ]
  },
  {
   "cell_type": "markdown",
   "id": "055b1cb2",
   "metadata": {},
   "source": [
    "### <a name=\"force\"></a>[Force Plot](https://shap-lrjball.readthedocs.io/en/latest/generated/shap.force_plot.html)\n",
    "\n",
    "*\"Visualize the given SHAP values with an additive force layout.\"*"
   ]
  },
  {
   "cell_type": "code",
   "execution_count": null,
   "id": "f551bdf2",
   "metadata": {},
   "outputs": [],
   "source": [
    "e = shap.Explainer(model, X_test)\n",
    "\n",
    "e.expected_value"
   ]
  },
  {
   "cell_type": "code",
   "execution_count": null,
   "id": "1c8c6f6c",
   "metadata": {},
   "outputs": [],
   "source": [
    "# See how the predicted value above compares to average predicted value below\n",
    "y_pred = model.predict(X_test)\n",
    "y_pred.mean()"
   ]
  },
  {
   "cell_type": "code",
   "execution_count": null,
   "id": "ff4c7ac2",
   "metadata": {},
   "outputs": [],
   "source": [
    "shap_values[0,:]"
   ]
  },
  {
   "cell_type": "code",
   "execution_count": null,
   "id": "2326c2fa",
   "metadata": {},
   "outputs": [],
   "source": [
    "X_test.iloc[0,:]"
   ]
  },
  {
   "cell_type": "code",
   "execution_count": null,
   "id": "5d80532c",
   "metadata": {},
   "outputs": [],
   "source": [
    "# Inspecting a single record using `shap.force_plot`\n",
    "idx = 0\n",
    "shap.force_plot(e.expected_value, # base_value i.e. expected value i.e. mean of predictions\n",
    "                shap_values[idx,:], # shap_values i.e. matrix of SHAP values \n",
    "                X_test.iloc[idx,:]) # features i.e. should be the same as shap_values, above"
   ]
  },
  {
   "cell_type": "code",
   "execution_count": null,
   "id": "ca360076",
   "metadata": {},
   "outputs": [],
   "source": [
    "# Multiple values\n",
    "# Interactive plot with 2 different drop downs - left and top\n",
    "shap.force_plot(e.expected_value,\n",
    "                shap_values,\n",
    "                X_test)"
   ]
  },
  {
   "cell_type": "markdown",
   "id": "a4fb2c33",
   "metadata": {},
   "source": [
    "#### References Used\n",
    "https://shap.readthedocs.io/en/latest/example_notebooks/api_examples/plots/waterfall.html?highlight=waterfall\n",
    "https://shap.readthedocs.io/en/latest/example_notebooks/tabular_examples/tree_based_models/Fitting%20a%20Linear%20Simulation%20with%20XGBoost.html"
   ]
  }
 ],
 "metadata": {
  "kernelspec": {
   "display_name": "Python 3 (ipykernel)",
   "language": "python",
   "name": "python3"
  },
  "language_info": {
   "codemirror_mode": {
    "name": "ipython",
    "version": 3
   },
   "file_extension": ".py",
   "mimetype": "text/x-python",
   "name": "python",
   "nbconvert_exporter": "python",
   "pygments_lexer": "ipython3",
   "version": "3.8.16"
  }
 },
 "nbformat": 4,
 "nbformat_minor": 5
}
